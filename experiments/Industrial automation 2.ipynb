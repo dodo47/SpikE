{
 "cells": [
  {
   "cell_type": "code",
   "execution_count": 1,
   "metadata": {},
   "outputs": [],
   "source": [
    "from spikee.utils import evaluate\n",
    "from spikee.utils.batcher import batch_provider\n",
    "from spikee.utils import conv\n",
    "from spikee.models.SpikE import SpikE_Scorer_AS as scorer\n",
    "from spikee.training import train\n",
    "import matplotlib.pyplot as plt\n",
    "import time\n",
    "import numpy as np\n",
    "import torch"
   ]
  },
  {
   "cell_type": "markdown",
   "metadata": {},
   "source": [
    "**Some functions for the evaluation**"
   ]
  },
  {
   "cell_type": "code",
   "execution_count": 2,
   "metadata": {},
   "outputs": [],
   "source": [
    "def get_names(variables, ent2id):\n",
    "    varse = []\n",
    "    for i in ent2id.keys():\n",
    "        for vv in variables:\n",
    "            if vv in i:\n",
    "                varse.append(i)\n",
    "    return varse\n",
    "\n",
    "def get_dataranking(model):\n",
    "    subj = 'opc#app1'\n",
    "    pred = 'opc#Read'\n",
    "\n",
    "    ent2id = conv.get_ent2id(datapath)\n",
    "    rel2id = conv.get_rel2id(datapath)\n",
    "\n",
    "    variables_train = ['UAVariable-voltageL2', 'UAVariable-voltageL1', 'UAVariable-curr']\n",
    "    variables_pos = ['UAVariable-active', 'aml#UAVariable-voltageL3']\n",
    "    variables_mid = ['UAVariable-proximity', 'UAVariable-drive', 'UAVariable-signal', 'UAVariable-pt100', 'UAVariable-ultrasonic']\n",
    "    variables_neg = ['UAVariable-Device', 'UAVariable-Op', 'UAVariable-Ma', 'UAVariable-S', 'UAVariable-Rev', 'UAVariable-Eng', 'UAVariable-6', 'UAVariable-H',\n",
    "                'UAVariable-Mo', 'UAVariable-Or']\n",
    "\n",
    "    datasets = []\n",
    "    for var in [variables_train, variables_pos, variables_mid, variables_neg]:\n",
    "        datasets.append(get_names(var, ent2id))\n",
    "\n",
    "    rankings = [[] for i in range(len(datasets))]            \n",
    "    for i in range(len(datasets)):\n",
    "        for j in datasets[i]:\n",
    "            rankings[i].append(evaluate.score_triple(rel2id, ent2id, model, subj, pred, j).detach().numpy()[0])\n",
    "        rankings[i] = np.array(rankings[i])\n",
    "        \n",
    "    return datasets, rankings\n"
   ]
  },
  {
   "cell_type": "markdown",
   "metadata": {},
   "source": [
    "**Load and preprocess the data (mostly remove opc sessions and old data events)**"
   ]
  },
  {
   "cell_type": "code",
   "execution_count": 3,
   "metadata": {},
   "outputs": [],
   "source": [
    "datapath = '../data/Industrial_Automation'\n",
    "train_data, valid_data, num_nodes, num_predicates = conv.load_data(datapath)\n",
    "\n",
    "# merge train and valid data set\n",
    "merged_data = []\n",
    "for [s,p,o] in train_data:\n",
    "    merged_data.append([s,p,o])\n",
    "for [s,p,o] in valid_data:\n",
    "    merged_data.append([s,p,o])\n",
    "train_data = np.array(merged_data)\n",
    "\n",
    "ent2id = conv.get_ent2id(datapath)\n",
    "rel2id = conv.get_rel2id(datapath)\n",
    "id2ent = conv.get_id2ent(datapath)\n",
    "id2rel = conv.get_id2rel(datapath)"
   ]
  },
  {
   "cell_type": "code",
   "execution_count": 4,
   "metadata": {},
   "outputs": [],
   "source": [
    "# remove session nodes for new data read representation\n",
    "sessions = []\n",
    "for key in ent2id.keys():\n",
    "    if 'ns_' in key:\n",
    "        sessions.append(key)\n",
    "\n",
    "new_data = []\n",
    "for [s,p,o] in train_data:\n",
    "    if id2ent[s] in sessions or id2ent[o] in sessions:\n",
    "        continue\n",
    "    else:\n",
    "        new_data.append([s,p,o])\n",
    "train_data = np.array(new_data)      "
   ]
  },
  {
   "cell_type": "code",
   "execution_count": 5,
   "metadata": {},
   "outputs": [],
   "source": [
    "# there are a few erronous triples in the data, clean them up first\n",
    "erronous_triples = []\n",
    "\n",
    "predid = rel2id['aml#hasUAVariablePLCtag']\n",
    "for k in train_data[train_data[:, 1] == predid]:\n",
    "    if id2ent[k[0]].split('-')[-1] != id2ent[k[2]].split('-')[-1]:\n",
    "        erronous_triples.append(k[2])\n",
    "for k in valid_data[valid_data[:, 1] == predid]:\n",
    "    if id2ent[k[0]].split('-')[-1] != id2ent[k[2]].split('-')[-1]:\n",
    "        erronous_triples.append(k[2])\n",
    "        \n",
    "new_data = []\n",
    "for [s,p,o] in train_data:\n",
    "    if o in erronous_triples and p == predid:\n",
    "        continue\n",
    "    else:\n",
    "        new_data.append([s,p,o])\n",
    "train_data = new_data"
   ]
  },
  {
   "cell_type": "markdown",
   "metadata": {},
   "source": [
    "**Add apps and data events**"
   ]
  },
  {
   "cell_type": "code",
   "execution_count": 6,
   "metadata": {},
   "outputs": [],
   "source": [
    "np.random.seed(12381347)\n",
    "\n",
    "# read relation\n",
    "pred = rel2id['opc#Read']\n",
    "\n",
    "# app1 reads the following data\n",
    "msubj = ent2id['opc#app1']\n",
    "mobjsnew = [ent2id['aml#UAVariable-voltageL1-N'],ent2id['aml#UAVariable-voltageL2-N'],ent2id['aml#UAVariable-currentL1'], ent2id['aml#UAVariable-currentL2'], ent2id['aml#UAVariable-currentL3']]\n",
    "mevents = np.random.randint(10,40,size=len(mobjsnew))\n",
    "\n",
    "# app2 reads the following data\n",
    "fsubj = ent2id['opc#app2']\n",
    "fobjsnew = [ent2id['aml#UAVariable-signalGreen'], ent2id['aml#UAVariable-signalYellow']]\n",
    "fevents = np.random.randint(20,90,size=len(fobjsnew))\n",
    "\n",
    "# apps initiated from different edge hosts\n",
    "train_data.append([msubj, rel2id['opc#initiatedFrom'], ent2id['zeek#192.168.0.17']])\n",
    "train_data.append([fsubj, rel2id['opc#initiatedFrom'], ent2id['zeek#192.168.0.18']])\n",
    "\n",
    "# add app1 read events to data\n",
    "for i in range(len(mobjsnew)):\n",
    "    for k in range(mevents[i]):\n",
    "        train_data.append([msubj, pred, mobjsnew[i]])\n",
    "\n",
    "# add app2 read events to data\n",
    "for i in range(len(fobjsnew)):\n",
    "    for k in range(fevents[i]):\n",
    "        train_data.append([fsubj, pred, fobjsnew[i]])\n",
    "train_data = np.array(train_data)"
   ]
  },
  {
   "cell_type": "markdown",
   "metadata": {},
   "source": [
    "**Create some negative examples as a cross-check during training**"
   ]
  },
  {
   "cell_type": "code",
   "execution_count": 7,
   "metadata": {},
   "outputs": [],
   "source": [
    "neg_data = []\n",
    "\n",
    "np.random.seed(1234)\n",
    "for i,j,k in train_data:\n",
    "    neg_data.append([np.random.randint(num_nodes), j, k])\n",
    "    neg_data.append([i,j,np.random.randint(num_nodes)])\n",
    "    \n",
    "neg_data = np.array(neg_data)"
   ]
  },
  {
   "cell_type": "markdown",
   "metadata": {},
   "source": [
    "**Train model**"
   ]
  },
  {
   "cell_type": "code",
   "execution_count": 8,
   "metadata": {},
   "outputs": [],
   "source": [
    "params = {\n",
    "    'dim': 20,\n",
    "    'input_size': 40,\n",
    "    'tau': 0.5,\n",
    "    'batchsize': 50,\n",
    "    'delta': 0.01,\n",
    "    'lr': 1.0,\n",
    "    'L2': 0.,\n",
    "    'steps': 6001,\n",
    "    'neg_samples': 2,\n",
    "    'maxspan': 2,\n",
    "}\n",
    "seed = 67815399"
   ]
  },
  {
   "cell_type": "code",
   "execution_count": 9,
   "metadata": {},
   "outputs": [
    {
     "name": "stdout",
     "output_type": "stream",
     "text": [
      "SpikE 0: ETA 0.0min ~~~~~~~~~ train: -20.870195388793945 __valid: -21.003551483154297 __neg: -20.38400650024414\n",
      "SpikE 100: ETA 22.04min ~~~~~~~~~ train: -5.689103126525879 __valid: -6.423304557800293 __neg: -8.073651313781738\n",
      "SpikE 200: ETA 21.52min ~~~~~~~~~ train: -4.374027252197266 __valid: -4.949889183044434 __neg: -6.474492073059082\n",
      "SpikE 300: ETA 21.08min ~~~~~~~~~ train: -3.494586706161499 __valid: -3.9781076908111572 __neg: -5.477099895477295\n",
      "SpikE 400: ETA 20.61min ~~~~~~~~~ train: -3.0157907009124756 __valid: -3.398263931274414 __neg: -4.89213752746582\n",
      "SpikE 500: ETA 20.18min ~~~~~~~~~ train: -2.617520570755005 __valid: -2.9559035301208496 __neg: -4.4225945472717285\n",
      "SpikE 600: ETA 19.75min ~~~~~~~~~ train: -2.3321921825408936 __valid: -2.646801233291626 __neg: -4.129191875457764\n",
      "SpikE 700: ETA 19.34min ~~~~~~~~~ train: -2.110208511352539 __valid: -2.4140212535858154 __neg: -3.902719497680664\n",
      "SpikE 800: ETA 18.93min ~~~~~~~~~ train: -1.9535248279571533 __valid: -2.229219913482666 __neg: -3.747030735015869\n",
      "SpikE 900: ETA 18.55min ~~~~~~~~~ train: -1.8566851615905762 __valid: -2.089587926864624 __neg: -3.591646909713745\n",
      "SpikE 1000: ETA 18.16min ~~~~~~~~~ train: -1.6457034349441528 __valid: -1.8856581449508667 __neg: -3.4522171020507812\n",
      "SpikE 1100: ETA 17.77min ~~~~~~~~~ train: -1.5686084032058716 __valid: -1.7718483209609985 __neg: -3.389465093612671\n",
      "SpikE 1200: ETA 17.38min ~~~~~~~~~ train: -1.4746997356414795 __valid: -1.6974931955337524 __neg: -3.359588384628296\n",
      "SpikE 1300: ETA 17.0min ~~~~~~~~~ train: -1.4198553562164307 __valid: -1.6238515377044678 __neg: -3.309535026550293\n",
      "SpikE 1400: ETA 16.63min ~~~~~~~~~ train: -1.319429874420166 __valid: -1.5277540683746338 __neg: -3.303661823272705\n",
      "SpikE 1500: ETA 16.26min ~~~~~~~~~ train: -1.302985668182373 __valid: -1.4910138845443726 __neg: -3.295413017272949\n",
      "SpikE 1600: ETA 15.94min ~~~~~~~~~ train: -1.2575795650482178 __valid: -1.4555755853652954 __neg: -3.303393840789795\n",
      "SpikE 1700: ETA 15.79min ~~~~~~~~~ train: -1.1963711977005005 __valid: -1.3740100860595703 __neg: -3.275987386703491\n",
      "SpikE 1800: ETA 15.59min ~~~~~~~~~ train: -1.1819844245910645 __valid: -1.3262896537780762 __neg: -3.2729201316833496\n",
      "SpikE 1900: ETA 15.42min ~~~~~~~~~ train: -1.1076946258544922 __valid: -1.2697234153747559 __neg: -3.2609646320343018\n",
      "SpikE 2000: ETA 15.19min ~~~~~~~~~ train: -1.1155433654785156 __valid: -1.2977991104125977 __neg: -3.27698016166687\n",
      "SpikE 2100: ETA 14.95min ~~~~~~~~~ train: -1.0771872997283936 __valid: -1.2369450330734253 __neg: -3.2919809818267822\n",
      "SpikE 2200: ETA 14.69min ~~~~~~~~~ train: -1.059528112411499 __valid: -1.2079015970230103 __neg: -3.271388530731201\n",
      "SpikE 2300: ETA 14.41min ~~~~~~~~~ train: -1.012265682220459 __valid: -1.146795392036438 __neg: -3.286079168319702\n",
      "SpikE 2400: ETA 14.12min ~~~~~~~~~ train: -1.0115759372711182 __valid: -1.1580288410186768 __neg: -3.2991316318511963\n",
      "SpikE 2500: ETA 13.81min ~~~~~~~~~ train: -0.9579747915267944 __valid: -1.1075509786605835 __neg: -3.3371362686157227\n",
      "SpikE 2600: ETA 13.47min ~~~~~~~~~ train: -0.9631720781326294 __valid: -1.1138134002685547 __neg: -3.3083274364471436\n",
      "SpikE 2700: ETA 13.14min ~~~~~~~~~ train: -0.9383409023284912 __valid: -1.0789649486541748 __neg: -3.3507297039031982\n",
      "SpikE 2800: ETA 12.81min ~~~~~~~~~ train: -0.9432291984558105 __valid: -1.072545051574707 __neg: -3.358722686767578\n",
      "SpikE 2900: ETA 12.47min ~~~~~~~~~ train: -0.9098052978515625 __valid: -1.0526704788208008 __neg: -3.350069284439087\n",
      "SpikE 3000: ETA 12.14min ~~~~~~~~~ train: -0.8712549209594727 __valid: -1.0070115327835083 __neg: -3.341855525970459\n",
      "SpikE 3100: ETA 11.78min ~~~~~~~~~ train: -0.8942822813987732 __valid: -1.0365731716156006 __neg: -3.384556531906128\n",
      "SpikE 3200: ETA 11.4min ~~~~~~~~~ train: -0.882278561592102 __valid: -1.0375549793243408 __neg: -3.41029691696167\n",
      "SpikE 3300: ETA 11.04min ~~~~~~~~~ train: -0.8412562608718872 __valid: -0.9888302087783813 __neg: -3.386606454849243\n",
      "SpikE 3400: ETA 10.65min ~~~~~~~~~ train: -0.8407793045043945 __valid: -0.9814844727516174 __neg: -3.4287567138671875\n",
      "SpikE 3500: ETA 10.23min ~~~~~~~~~ train: -0.8293725252151489 __valid: -0.9624783992767334 __neg: -3.444159746170044\n",
      "SpikE 3600: ETA 9.83min ~~~~~~~~~ train: -0.856659471988678 __valid: -0.9699174761772156 __neg: -3.478487968444824\n",
      "SpikE 3700: ETA 9.43min ~~~~~~~~~ train: -0.801117479801178 __valid: -0.9371691346168518 __neg: -3.4533276557922363\n",
      "SpikE 3800: ETA 9.02min ~~~~~~~~~ train: -0.7860294580459595 __valid: -0.9276887774467468 __neg: -3.4862430095672607\n",
      "SpikE 3900: ETA 8.61min ~~~~~~~~~ train: -0.7857728600502014 __valid: -0.9127843976020813 __neg: -3.4910881519317627\n",
      "SpikE 4000: ETA 8.23min ~~~~~~~~~ train: -0.7754529714584351 __valid: -0.9100196361541748 __neg: -3.5045106410980225\n",
      "SpikE 4100: ETA 7.85min ~~~~~~~~~ train: -0.7832910418510437 __valid: -0.9228692054748535 __neg: -3.5228962898254395\n",
      "SpikE 4200: ETA 7.43min ~~~~~~~~~ train: -0.7697742581367493 __valid: -0.906957745552063 __neg: -3.537336826324463\n",
      "SpikE 4300: ETA 7.0min ~~~~~~~~~ train: -0.7489197254180908 __valid: -0.8864524960517883 __neg: -3.524540662765503\n",
      "SpikE 4400: ETA 6.57min ~~~~~~~~~ train: -0.7562008500099182 __valid: -0.8798267841339111 __neg: -3.5434463024139404\n",
      "SpikE 4500: ETA 6.16min ~~~~~~~~~ train: -0.7597848773002625 __valid: -0.8985806107521057 __neg: -3.564976692199707\n",
      "SpikE 4600: ETA 5.75min ~~~~~~~~~ train: -0.7484866380691528 __valid: -0.8692196011543274 __neg: -3.5587098598480225\n",
      "SpikE 4700: ETA 5.34min ~~~~~~~~~ train: -0.7314959764480591 __valid: -0.8724757432937622 __neg: -3.556568145751953\n",
      "SpikE 4800: ETA 4.92min ~~~~~~~~~ train: -0.7452667355537415 __valid: -0.8819100856781006 __neg: -3.605046272277832\n",
      "SpikE 4900: ETA 4.5min ~~~~~~~~~ train: -0.7379330396652222 __valid: -0.8675252199172974 __neg: -3.599748373031616\n",
      "SpikE 5000: ETA 4.09min ~~~~~~~~~ train: -0.718463122844696 __valid: -0.8483707308769226 __neg: -3.592790126800537\n",
      "SpikE 5100: ETA 3.69min ~~~~~~~~~ train: -0.7098373770713806 __valid: -0.8321290016174316 __neg: -3.5818488597869873\n",
      "SpikE 5200: ETA 3.28min ~~~~~~~~~ train: -0.7080746293067932 __valid: -0.8380926251411438 __neg: -3.5888726711273193\n",
      "SpikE 5300: ETA 2.87min ~~~~~~~~~ train: -0.7120210528373718 __valid: -0.82770836353302 __neg: -3.619767427444458\n",
      "SpikE 5400: ETA 2.47min ~~~~~~~~~ train: -0.6881713271141052 __valid: -0.8079900741577148 __neg: -3.620356321334839\n",
      "SpikE 5500: ETA 2.06min ~~~~~~~~~ train: -0.6967063546180725 __valid: -0.8187901973724365 __neg: -3.6150193214416504\n",
      "SpikE 5600: ETA 1.65min ~~~~~~~~~ train: -0.6790723204612732 __valid: -0.8066718578338623 __neg: -3.614858865737915\n",
      "SpikE 5700: ETA 1.24min ~~~~~~~~~ train: -0.6895453929901123 __valid: -0.8102340698242188 __neg: -3.629905939102173\n",
      "SpikE 5800: ETA 0.83min ~~~~~~~~~ train: -0.6860809326171875 __valid: -0.8111960291862488 __neg: -3.6515023708343506\n",
      "SpikE 5900: ETA 0.42min ~~~~~~~~~ train: -0.6728084087371826 __valid: -0.8097760677337646 __neg: -3.651970386505127\n",
      "SpikE 6000: ETA 0.0min ~~~~~~~~~ train: -0.6724114418029785 __valid: -0.8075445294380188 __neg: -3.665480613708496\n"
     ]
    }
   ],
   "source": [
    "batcher = batch_provider(train_data, params['batchsize'], params['neg_samples'], seed)\n",
    "model = scorer(num_nodes, num_predicates, params['dim'], params['input_size'], params['tau'], params['maxspan'], seed)\n",
    "optimizer = torch.optim.Adagrad([model.entities.weights.weight, model.predicates.weight], lr=params['lr'], weight_decay = params['L2'])\n",
    "train(optimizer, batcher, model,params['delta'], params['steps'], data = [train_data, valid_data, neg_data])"
   ]
  },
  {
   "cell_type": "markdown",
   "metadata": {},
   "source": [
    "**Evaluate how various data events are ranked by the model**"
   ]
  },
  {
   "cell_type": "markdown",
   "metadata": {},
   "source": [
    "**Create dataevents to check, separated into four categories**\n",
    "1) seen during training\n",
    "\n",
    "2) data variables that share structure with variables accessed during training + hang from the same PLC\n",
    "\n",
    "3) data variables that hang from the same PLC\n",
    "\n",
    "4) almost no relation with variables accessed during training"
   ]
  },
  {
   "cell_type": "code",
   "execution_count": 10,
   "metadata": {},
   "outputs": [],
   "source": [
    "subj = 'opc#app1'\n",
    "pred = 'opc#Read'\n",
    "\n",
    "ent2id = conv.get_ent2id(datapath)\n",
    "rel2id = conv.get_rel2id(datapath)\n",
    "\n",
    "variables_train = ['UAVariable-voltageL2', 'UAVariable-voltageL1', 'UAVariable-curr']\n",
    "variables_pos = ['UAVariable-active', 'aml#UAVariable-voltageL3']\n",
    "variables_mid = ['UAVariable-proximity', 'UAVariable-drive', 'UAVariable-signal', 'UAVariable-pt100', 'UAVariable-ultrasonic']\n",
    "variables_neg = ['UAVariable-Device', 'UAVariable-Op', 'UAVariable-Ma', 'UAVariable-S', 'UAVariable-Rev', 'UAVariable-Eng', 'UAVariable-6', 'UAVariable-H',\n",
    "                'UAVariable-Mo', 'UAVariable-Or']\n",
    "\n",
    "datasets = []\n",
    "for var in [variables_train, variables_pos, variables_mid, variables_neg]:\n",
    "    datasets.append(get_names(var, ent2id))\n",
    "    \n",
    "variables = []\n",
    "for vv in datasets:\n",
    "    variables += vv"
   ]
  },
  {
   "cell_type": "code",
   "execution_count": 11,
   "metadata": {},
   "outputs": [
    {
     "name": "stderr",
     "output_type": "stream",
     "text": [
      "/home/dodo/SpikE_ph/spikee/models/neurons/nLIF.py:102: UserWarning: To copy construct from a tensor, it is recommended to use sourceTensor.clone().detach() or sourceTensor.clone().detach().requires_grad_(True), rather than torch.tensor(sourceTensor).\n",
      "  s_embs = torch.tensor(s_embs).long()\n",
      "/home/dodo/SpikE_ph/spikee/models/neurons/nLIF.py:103: UserWarning: To copy construct from a tensor, it is recommended to use sourceTensor.clone().detach() or sourceTensor.clone().detach().requires_grad_(True), rather than torch.tensor(sourceTensor).\n",
      "  o_embs = torch.tensor(o_embs).long()\n",
      "/home/dodo/SpikE_ph/spikee/models/SpikE.py:73: UserWarning: To copy construct from a tensor, it is recommended to use sourceTensor.clone().detach() or sourceTensor.clone().detach().requires_grad_(True), rather than torch.tensor(sourceTensor).\n",
      "  p_emb = self.predicates(torch.tensor(pred).long())\n"
     ]
    }
   ],
   "source": [
    "v1, r1 = get_dataranking(model)\n",
    "variables = dict(zip(variables, np.arange(len(variables))))"
   ]
  },
  {
   "cell_type": "markdown",
   "metadata": {},
   "source": [
    "**Scoring of data events, where a low score means the event is ranked as more plausible by the trained network. Plausibility in descending order: green (star), yellow (diamond), orange (square), red (circle).** "
   ]
  },
  {
   "cell_type": "code",
   "execution_count": 19,
   "metadata": {},
   "outputs": [
    {
     "data": {
      "image/png": "[encoded data removed]",
      "text/plain": [
       "<Figure size 432x288 with 1 Axes>"
      ]
     },
     "metadata": {
      "needs_background": "light"
     },
     "output_type": "display_data"
    }
   ],
   "source": [
    "colors = ['g', 'y', 'orange', 'r']\n",
    "markers = ['*', 'D', 's', 'o']\n",
    "\n",
    "scores = []\n",
    "labels = []\n",
    "for k in range(len(v1)):\n",
    "    for i in range(len(v1[k])):\n",
    "        labels.append(k)\n",
    "        scores.append(-r1[k][i])\n",
    "order = np.argsort(scores)\n",
    "scores = np.array(scores)[order]\n",
    "labels = np.array(labels)[order]\n",
    "\n",
    "ypos = 0\n",
    "for k in range(len(scores)):\n",
    "    plt.plot(scores[k], [ypos], color=colors[labels[k]], marker=markers[labels[k]])\n",
    "    ypos += 1\n",
    "\n",
    "plt.xlabel('implausibility (score)', fontsize = 16)\n",
    "_ = plt.ylabel('data access triples', fontsize = 16)"
   ]
  }
 ],
 "metadata": {
  "kernelspec": {
   "display_name": "Python 3",
   "language": "python",
   "name": "python3"
  },
  "language_info": {
   "codemirror_mode": {
    "name": "ipython",
    "version": 3
   },
   "file_extension": ".py",
   "mimetype": "text/x-python",
   "name": "python",
   "nbconvert_exporter": "python",
   "pygments_lexer": "ipython3",
   "version": "3.8.8"
  }
 },
 "nbformat": 4,
 "nbformat_minor": 4
}
