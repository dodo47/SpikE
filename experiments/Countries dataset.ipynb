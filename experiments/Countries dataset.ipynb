{
 "cells": [
  {
   "cell_type": "code",
   "execution_count": 1,
   "metadata": {},
   "outputs": [],
   "source": [
    "from spikee.utils import conv\n",
    "from spikee.utils import preprocessing\n",
    "from spikee.utils.batcher import batch_provider\n",
    "from spikee.models.SpikE import SpikE_Scorer_AS as scorer\n",
    "from spikee.training import train_and_evaluate as train\n",
    "import matplotlib.pyplot as plt\n",
    "\n",
    "import os\n",
    "import torch\n",
    "import numpy as np\n",
    "np.random.seed(12312345)"
   ]
  },
  {
   "cell_type": "markdown",
   "metadata": {},
   "source": [
    "**Load data**"
   ]
  },
  {
   "cell_type": "code",
   "execution_count": 2,
   "metadata": {},
   "outputs": [],
   "source": [
    "datapath = '../data/Countries_S1'\n",
    "train_data, valid_data, num_nodes, num_predicates = conv.load_data(datapath)\n",
    "\n",
    "ent2id = conv.get_ent2id(datapath)\n",
    "rel2id = conv.get_rel2id(datapath)\n",
    "id2ent = conv.get_id2ent(datapath)"
   ]
  },
  {
   "cell_type": "code",
   "execution_count": 3,
   "metadata": {},
   "outputs": [
    {
     "name": "stdout",
     "output_type": "stream",
     "text": [
      "Creating data for filtered metrics...\n"
     ]
    },
    {
     "name": "stderr",
     "output_type": "stream",
     "text": [
      "/home/dodo/anaconda3/envs/test/lib/python3.8/site-packages/numpy/core/_asarray.py:171: VisibleDeprecationWarning: Creating an ndarray from ragged nested sequences (which is a list-or-tuple of lists-or-tuples-or ndarrays with different lengths or shapes) is deprecated. If you meant to do this, you must specify 'dtype=object' when creating the ndarray.\n",
      "  return array(a, dtype, copy=False, order=order, subok=True)\n"
     ]
    }
   ],
   "source": [
    "if not os.path.exists('{}/valid_filter_po.npy'.format(datapath)):\n",
    "    print('Creating data for filtered metrics...')\n",
    "    preprocessing.filter_data(datapath)"
   ]
  },
  {
   "cell_type": "markdown",
   "metadata": {},
   "source": [
    "**Set up and train model (not perfectly tweaked!)**"
   ]
  },
  {
   "cell_type": "code",
   "execution_count": 4,
   "metadata": {},
   "outputs": [],
   "source": [
    "params = {\n",
    "    'dim': 40,\n",
    "    'input_size': 40,\n",
    "    'tau': 0.5,\n",
    "    'batchsize': 64,\n",
    "    'delta': 0.001,\n",
    "    'lr': .1,\n",
    "    'L2': 0.,\n",
    "    'steps': 801,\n",
    "    'neg_samples': 10,\n",
    "    'maxspan': 2,\n",
    "}\n",
    "eval_points = list(range(0, 1001, 200))\n",
    "seed = np.random.randint(1e8)"
   ]
  },
  {
   "cell_type": "code",
   "execution_count": 5,
   "metadata": {},
   "outputs": [
    {
     "name": "stdout",
     "output_type": "stream",
     "text": [
      "0:\n",
      "\n",
      "train ~~~~SP~~~~ hits@1: 0.0018 __hits@3: 0.0027 __ mean: 146.8209 __ MRR: 0.0157\n",
      "\n",
      "train ~~~~PO~~~~ hits@1: 0.0018 __hits@3: 0.0063 __ mean: 127.9622 __ MRR: 0.0224\n",
      "\n",
      "valid ~~~~SP~~~~ hits@1: 0.0000 __hits@3: 0.0000 __ mean: 183.5000 __ MRR: 0.0114\n",
      "\n",
      "valid ~~~~PO~~~~ hits@1: 0.0000 __hits@3: 0.0000 __ mean: 128.7083 __ MRR: 0.0207\n",
      "\n",
      "ETA 8.57min \n",
      "\n",
      "\n",
      "200:\n",
      "\n",
      "train ~~~~SP~~~~ hits@1: 0.3546 __hits@3: 0.8461 __ mean: 3.0864 __ MRR: 0.6086\n",
      "\n",
      "train ~~~~PO~~~~ hits@1: 0.1755 __hits@3: 0.7102 __ mean: 9.4131 __ MRR: 0.4616\n",
      "\n",
      "valid ~~~~SP~~~~ hits@1: 0.5417 __hits@3: 1.0000 __ mean: 1.4583 __ MRR: 0.7708\n",
      "\n",
      "valid ~~~~PO~~~~ hits@1: 0.2083 __hits@3: 0.4583 __ mean: 4.0000 __ MRR: 0.4029\n",
      "\n",
      "ETA 0.89min \n",
      "\n",
      "\n",
      "400:\n",
      "\n",
      "train ~~~~SP~~~~ hits@1: 0.3537 __hits@3: 0.8704 __ mean: 2.4194 __ MRR: 0.6203\n",
      "\n",
      "train ~~~~PO~~~~ hits@1: 0.2142 __hits@3: 0.7579 __ mean: 7.5068 __ MRR: 0.5008\n",
      "\n",
      "valid ~~~~SP~~~~ hits@1: 0.4583 __hits@3: 1.0000 __ mean: 1.6250 __ MRR: 0.7153\n",
      "\n",
      "valid ~~~~PO~~~~ hits@1: 0.1250 __hits@3: 0.6250 __ mean: 3.5417 __ MRR: 0.3963\n",
      "\n",
      "ETA 0.59min \n",
      "\n",
      "\n",
      "600:\n",
      "\n",
      "train ~~~~SP~~~~ hits@1: 0.3564 __hits@3: 0.8812 __ mean: 2.3654 __ MRR: 0.6270\n",
      "\n",
      "train ~~~~PO~~~~ hits@1: 0.2556 __hits@3: 0.8056 __ mean: 6.0270 __ MRR: 0.5430\n",
      "\n",
      "valid ~~~~SP~~~~ hits@1: 0.2500 __hits@3: 1.0000 __ mean: 1.8333 __ MRR: 0.6111\n",
      "\n",
      "valid ~~~~PO~~~~ hits@1: 0.0833 __hits@3: 0.5000 __ mean: 3.9167 __ MRR: 0.3509\n",
      "\n",
      "ETA 0.30min \n",
      "\n",
      "\n",
      "800:\n",
      "\n",
      "train ~~~~SP~~~~ hits@1: 0.3573 __hits@3: 0.8857 __ mean: 2.3294 __ MRR: 0.6285\n",
      "\n",
      "train ~~~~PO~~~~ hits@1: 0.2808 __hits@3: 0.8191 __ mean: 4.5779 __ MRR: 0.5622\n",
      "\n",
      "valid ~~~~SP~~~~ hits@1: 0.4167 __hits@3: 1.0000 __ mean: 1.7083 __ MRR: 0.6875\n",
      "\n",
      "valid ~~~~PO~~~~ hits@1: 0.1250 __hits@3: 0.5417 __ mean: 3.6250 __ MRR: 0.3998\n",
      "\n",
      "ETA 0.00min \n",
      "\n",
      "\n"
     ]
    }
   ],
   "source": [
    "batcher = batch_provider(train_data, params['batchsize'], params['neg_samples'], seed)\n",
    "model = scorer(num_nodes, num_predicates, params['dim'], params['input_size'], params['tau'], params['maxspan'], seed)\n",
    "optimizer = torch.optim.Adagrad([model.entities.weights.weight, model.predicates.weight], lr=params['lr'], weight_decay = params['L2'])\n",
    "train(optimizer, batcher, model,params['delta'],\\\n",
    "      params['steps'], eval_points, datapath = datapath,\\\n",
    "      data = [train_data, valid_data])"
   ]
  },
  {
   "cell_type": "markdown",
   "metadata": {},
   "source": [
    "**Neighborhood of Germany**"
   ]
  },
  {
   "cell_type": "code",
   "execution_count": 6,
   "metadata": {},
   "outputs": [
    {
     "name": "stdout",
     "output_type": "stream",
     "text": [
      "germany -0.08598379\n",
      "switzerland -0.47906348\n",
      "luxembourg -0.4968054\n",
      "netherlands -0.64275926\n",
      "france -0.6522672\n",
      "belgium -0.7042271\n",
      "liechtenstein -0.7336046\n",
      "austria -0.8452571\n",
      "czechia -1.1845202\n",
      "italy -1.2530186\n",
      "denmark -1.2581531\n",
      "slovakia -1.3772969\n"
     ]
    }
   ],
   "source": [
    "num_nodes = len(ent2id)\n",
    "rankings = model.score([ent2id['germany']]*num_nodes, [1]*num_nodes, np.arange(num_nodes)).detach().numpy()\n",
    "sorted_ids = list(np.argsort(rankings))[::-1]\n",
    "\n",
    "for i in range(12):\n",
    "    print(id2ent[sorted_ids[i]], rankings[sorted_ids[i]])"
   ]
  },
  {
   "cell_type": "markdown",
   "metadata": {},
   "source": [
    "**Neighborhood of Romania**"
   ]
  },
  {
   "cell_type": "code",
   "execution_count": 7,
   "metadata": {},
   "outputs": [
    {
     "name": "stdout",
     "output_type": "stream",
     "text": [
      "romania -0.08598379\n",
      "moldova -0.502905\n",
      "hungary -0.8067311\n",
      "ukraine -0.95467067\n",
      "bulgaria -1.4154843\n",
      "serbia -1.4559752\n",
      "poland -1.4695939\n",
      "slovakia -1.5157331\n",
      "slovenia -1.5239209\n",
      "macedonia -1.5454077\n",
      "greece -1.5655544\n",
      "kosovo -1.592504\n"
     ]
    }
   ],
   "source": [
    "num_nodes = len(ent2id)\n",
    "rankings = model.score([ent2id['romania']]*num_nodes, [1]*num_nodes, np.arange(num_nodes)).detach().numpy()\n",
    "sorted_ids = list(np.argsort(rankings))[::-1]\n",
    "\n",
    "for i in range(12):\n",
    "    print(id2ent[sorted_ids[i]], rankings[sorted_ids[i]])"
   ]
  },
  {
   "cell_type": "markdown",
   "metadata": {},
   "source": [
    "**Validation set**"
   ]
  },
  {
   "cell_type": "code",
   "execution_count": 8,
   "metadata": {},
   "outputs": [
    {
     "name": "stdout",
     "output_type": "stream",
     "text": [
      "kosovo locatedin europe -2.1966066\n",
      "south_sudan locatedin africa -1.9136417\n",
      "brazil locatedin americas -2.18354\n",
      "niger locatedin africa -1.8326555\n",
      "serbia locatedin europe -2.1561332\n",
      "colombia locatedin americas -2.0921144\n",
      "guinea-bissau locatedin africa -2.599161\n",
      "andorra locatedin europe -2.1452396\n",
      "greece locatedin europe -2.3266656\n",
      "panama locatedin americas -2.7122862\n",
      "somalia locatedin africa -2.0380905\n",
      "bosnia_and_herzegovina locatedin europe -2.2995942\n",
      "macau locatedin asia -2.1823552\n",
      "qatar locatedin asia -2.765574\n",
      "mexico locatedin americas -2.5046325\n",
      "burundi locatedin africa -2.233324\n",
      "honduras locatedin americas -2.7724335\n",
      "bangladesh locatedin asia -2.0282533\n",
      "timor-leste locatedin asia -2.9055018\n",
      "lesotho locatedin africa -2.8971827\n",
      "romania locatedin europe -1.7491117\n",
      "rwanda locatedin africa -2.1469777\n",
      "ireland locatedin europe -2.484942\n",
      "djibouti locatedin africa -2.3487754\n"
     ]
    }
   ],
   "source": [
    "for i,j,k in valid_data:\n",
    "    print(id2ent[i], 'locatedin', id2ent[k], model.score([i], [j], [k]).detach().numpy()[0])"
   ]
  },
  {
   "cell_type": "code",
   "execution_count": 9,
   "metadata": {},
   "outputs": [
    {
     "name": "stdout",
     "output_type": "stream",
     "text": [
      "kosovo locatedin asia -4.814597\n",
      "ireland locatedin americas -5.845233\n",
      "mexico locatedin northern_america -1.137699\n",
      "mexico locatedin central_america -1.0245221\n",
      "mexico locatedin south_america -3.7488103\n",
      "mexico locatedin europe -5.9285946\n"
     ]
    }
   ],
   "source": [
    "neg_valid = [['kosovo', 'locatedin', 'asia'],\n",
    "            ['ireland', 'locatedin', 'americas'],\n",
    "            ['mexico', 'locatedin', 'northern_america'],\n",
    "            ['mexico', 'locatedin', 'central_america'],\n",
    "            ['mexico', 'locatedin', 'south_america'],\n",
    "            ['mexico', 'locatedin', 'europe']]\n",
    "\n",
    "for i,j,k in neg_valid:\n",
    "    print(i,j,k, model.score([ent2id[i]], [rel2id[j]], [ent2id[k]]).detach().numpy()[0])"
   ]
  },
  {
   "cell_type": "markdown",
   "metadata": {},
   "source": [
    "**Test set**"
   ]
  },
  {
   "cell_type": "code",
   "execution_count": 10,
   "metadata": {},
   "outputs": [
    {
     "name": "stdout",
     "output_type": "stream",
     "text": [
      "zambia locatedin africa -2.2347603\n",
      "morocco locatedin africa -2.6570559\n",
      "san_marino locatedin europe -2.2597647\n",
      "canada locatedin americas -3.225848\n",
      "uganda locatedin africa -2.1050792\n",
      "belgium locatedin europe -2.3643875\n",
      "syria locatedin asia -2.7419086\n",
      "mali locatedin africa -2.033515\n",
      "russia locatedin europe -2.314761\n",
      "israel locatedin asia -2.8906589\n",
      "republic_of_the_congo locatedin africa -1.8926746\n",
      "guatemala locatedin americas -2.510765\n",
      "sri_lanka locatedin asia -1.9586848\n",
      "monaco locatedin europe -2.7456026\n",
      "croatia locatedin europe -2.2872343\n",
      "paraguay locatedin americas -2.5254724\n",
      "poland locatedin europe -1.7358065\n",
      "hong_kong locatedin asia -2.4489644\n",
      "libya locatedin africa -1.8338642\n",
      "jordan locatedin asia -2.794767\n",
      "yemen locatedin asia -3.1490202\n",
      "saudi_arabia locatedin asia -2.7927485\n",
      "mauritania locatedin africa -2.3860276\n",
      "suriname locatedin americas -2.3902903\n"
     ]
    }
   ],
   "source": [
    "test_data = np.genfromtxt('{}/test.txt'.format(datapath), dtype='str')\n",
    "for i,j,k in test_data:\n",
    "    print(i,j,k, model.score([ent2id[i]], [rel2id[j]], [ent2id[k]]).detach().numpy()[0])"
   ]
  },
  {
   "cell_type": "code",
   "execution_count": 11,
   "metadata": {},
   "outputs": [
    {
     "name": "stdout",
     "output_type": "stream",
     "text": [
      "poland locatedin americas -5.8796663\n",
      "zambia locatedin europe -6.7938704\n",
      "hong_kong locatedin europe -5.731286\n",
      "hong_kong locatedin americas -6.6998405\n"
     ]
    }
   ],
   "source": [
    "neg_test = [['poland', 'locatedin', 'americas'],\n",
    "            ['zambia', 'locatedin', 'europe'],\n",
    "            ['hong_kong', 'locatedin', 'europe'],\n",
    "            ['hong_kong', 'locatedin', 'americas']]\n",
    "\n",
    "for i,j,k in neg_test:\n",
    "    print(i,j,k, model.score([ent2id[i]], [rel2id[j]], [ent2id[k]]).detach().numpy()[0])"
   ]
  },
  {
   "cell_type": "markdown",
   "metadata": {},
   "source": [
    "**Plotting membrane potentials + spikes for some exemplary neurons**"
   ]
  },
  {
   "cell_type": "code",
   "execution_count": 150,
   "metadata": {},
   "outputs": [],
   "source": [
    "def plot_trace_and_spike(spikes, vmem, population, neuron, ax):\n",
    "    sptime = float(spikes[population,neuron].detach().numpy())+1\n",
    "    ax.vlines(sptime, 0.4, 4, linewidth=2)\n",
    "    ax.plot(np.arange(0, int(sptime*101),1)*0.01, np.array(vmem)[:int(sptime*101),population,neuron])\n",
    "    ax.set_xlim(0,2)"
   ]
  },
  {
   "cell_type": "code",
   "execution_count": 153,
   "metadata": {},
   "outputs": [
    {
     "data": {
      "image/png": "[encoded data removed]",
      "text/plain": [
       "<Figure size 1080x360 with 4 Axes>"
      ]
     },
     "metadata": {
      "needs_background": "light"
     },
     "output_type": "display_data"
    }
   ],
   "source": [
    "spikes, vmem = model.entities._integrate_model_using_Euler()\n",
    "fig, ax = plt.subplots(4, sharex = True, sharey = True, figsize = (15,5))\n",
    "\n",
    "neurons_to_plot = [[5,5], [1,7], [9,3], [40,11]]\n",
    "\n",
    "for i in range(4):\n",
    "    plot_trace_and_spike(spikes, vmem, neurons_to_plot[i][0], neurons_to_plot[i][1], ax[i])\n",
    "\n",
    "ax[3].set_xlabel('time', fontsize = 20)\n",
    "_ = ax[2].set_ylabel('vmem', y = 1.25, fontsize = 20)"
   ]
  }
 ],
 "metadata": {
  "kernelspec": {
   "display_name": "Python 3",
   "language": "python",
   "name": "python3"
  },
  "language_info": {
   "codemirror_mode": {
    "name": "ipython",
    "version": 3
   },
   "file_extension": ".py",
   "mimetype": "text/x-python",
   "name": "python",
   "nbconvert_exporter": "python",
   "pygments_lexer": "ipython3",
   "version": "3.7.7"
  }
 },
 "nbformat": 4,
 "nbformat_minor": 4
}
